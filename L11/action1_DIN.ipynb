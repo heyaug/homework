{
  "nbformat": 4,
  "nbformat_minor": 0,
  "metadata": {
    "colab": {
      "name": "“欢迎使用 Colaboratory”的副本",
      "provenance": [],
      "collapsed_sections": [],
      "toc_visible": true,
      "include_colab_link": true
    },
    "kernelspec": {
      "display_name": "Python 3",
      "name": "python3"
    }
  },
  "cells": [
    {
      "cell_type": "markdown",
      "metadata": {
        "id": "view-in-github",
        "colab_type": "text"
      },
      "source": [
        "<a href=\"https://colab.research.google.com/github/heyaug/homework/blob/master/L11/action1_DIN.ipynb\" target=\"_parent\"><img src=\"https://colab.research.google.com/assets/colab-badge.svg\" alt=\"Open In Colab\"/></a>"
      ]
    },
    {
      "cell_type": "code",
      "metadata": {
        "id": "KRzMnl1iLC4W",
        "colab_type": "code",
        "colab": {}
      },
      "source": [
        "from google.colab import drive"
      ],
      "execution_count": 0,
      "outputs": []
    },
    {
      "cell_type": "code",
      "metadata": {
        "id": "tHYK4YC9LLjG",
        "colab_type": "code",
        "outputId": "e4a37ff2-e0f0-4e50-ce9a-cc9af4c3bbb5",
        "colab": {
          "base_uri": "https://localhost:8080/",
          "height": 34
        }
      },
      "source": [
        "drive.mount('/content/drive/', force_remount=True)\n",
        "root_dir = \"/content/drive/My Drive/\""
      ],
      "execution_count": 0,
      "outputs": [
        {
          "output_type": "stream",
          "text": [
            "Mounted at /content/drive/\n"
          ],
          "name": "stdout"
        }
      ]
    },
    {
      "cell_type": "code",
      "metadata": {
        "id": "dXkuFW7CLuUd",
        "colab_type": "code",
        "outputId": "69a9db34-f0d7-4c9a-ef49-1064695b997b",
        "colab": {
          "base_uri": "https://localhost:8080/",
          "height": 34
        }
      },
      "source": [
        "!pwd"
      ],
      "execution_count": 0,
      "outputs": [
        {
          "output_type": "stream",
          "text": [
            "/content\n"
          ],
          "name": "stdout"
        }
      ]
    },
    {
      "cell_type": "code",
      "metadata": {
        "id": "l8PKw_9BKhj2",
        "colab_type": "code",
        "colab": {}
      },
      "source": [
        "import gc\n",
        "import numpy as np\n",
        "import pandas as pd\n",
        "from sklearn.preprocessing import LabelEncoder\n",
        "# 用户行为，使用format1进行加载\n",
        "# 加载小样本\n",
        "user_log = pd.read_csv('./drive/My Drive/sample_user_log.csv', dtype={'time_stamp':'str'})\n",
        "user_info = pd.read_csv('./drive/My Drive/sample_user_info.csv')\n",
        "train_data1 = pd.read_csv('./drive/My Drive/train.csv')\n",
        "submission = pd.read_csv('./drive/My Drive/test.csv')\n",
        "train_data = pd.read_csv('./drive/My Drive/train_format2.csv')"
      ],
      "execution_count": 0,
      "outputs": []
    },
    {
      "cell_type": "code",
      "metadata": {
        "id": "cM4uSeoAKqx-",
        "colab_type": "code",
        "colab": {}
      },
      "source": [
        "train_data1['origin'] = 'train'\n",
        "submission['origin'] = 'test'\n",
        "matrix = pd.concat([train_data1, submission], ignore_index=True, sort=False)"
      ],
      "execution_count": 0,
      "outputs": []
    },
    {
      "cell_type": "code",
      "metadata": {
        "id": "1TluPcBRNrrL",
        "colab_type": "code",
        "outputId": "349809ba-dd2a-4a00-c5f8-6f0e26c41b31",
        "colab": {
          "base_uri": "https://localhost:8080/",
          "height": 34
        }
      },
      "source": [
        "\n",
        "# 使用merchant_id（原列名seller_id）\n",
        "user_log.rename(columns={'seller_id':'merchant_id'}, inplace=True)\n",
        "# 格式化\n",
        "user_log['user_id'] = user_log['user_id'].astype('int32')\n",
        "user_log['merchant_id'] = user_log['merchant_id'].astype('int32')\n",
        "user_log['item_id'] = user_log['item_id'].astype('int32')\n",
        "user_log['cat_id'] = user_log['cat_id'].astype('int32')\n",
        "user_log['brand_id'].fillna(0, inplace=True)\n",
        "user_log['brand_id'] = user_log['brand_id'].astype('int32')\n",
        "user_log['time_stamp'] = pd.to_datetime(user_log['time_stamp'], format='%H%M')\n",
        "\n",
        "# 对离散特征做LabelEncoder\n",
        "lbe_merchant_id=LabelEncoder()\n",
        "lbe_merchant_id.fit(np.r_[0,user_log['merchant_id'].values])\n",
        "user_log['merchant_id']=lbe_merchant_id.transform(user_log['merchant_id'])\n",
        "matrix['merchant_id']=lbe_merchant_id.transform(matrix['merchant_id'])\n",
        "\n",
        "lbe_user_id=LabelEncoder()\n",
        "user_log['user_id']=lbe_user_id.fit_transform(user_log['user_id'])\n",
        "user_info['user_id']=lbe_user_id.transform(user_info['user_id'])\n",
        "matrix['user_id']=lbe_user_id.transform(matrix['user_id'])\n",
        "\n",
        "lbe_item_id=LabelEncoder()\n",
        "user_log['item_id']=lbe_item_id.fit_transform(user_log['item_id'])\n",
        "lbe_cat_id=LabelEncoder()\n",
        "user_log['cat_id']=lbe_cat_id.fit_transform(user_log['cat_id'])\n",
        "lbe_brand_id=LabelEncoder()\n",
        "user_log['brand_id']=lbe_brand_id.fit_transform(user_log['brand_id'])\n",
        "\n",
        "user_log['merchant_id'].max(),user_log['user_id'].max()\n",
        "matrix = matrix.merge(user_info, on='user_id', how='left')\n",
        "\n",
        "# 1 for <18; 2 for [18,24]; 3 for [25,29]; 4 for [30,34]; 5 for [35,39]; 6 for [40,49]; 7 and 8 for >= 50; 0 and NULL for unknown\n",
        "matrix['age_range'].fillna(0, inplace=True)\n",
        "# 0:female, 1:male, 2:unknown\n",
        "matrix['gender'].fillna(2, inplace=True)\n",
        "matrix['age_range'] = matrix['age_range'].astype('int8')\n",
        "matrix['gender'] = matrix['gender'].astype('int8')\n",
        "matrix['label'] = matrix['label'].astype('str')\n",
        "matrix['user_id'] = matrix['user_id'].astype('int32')\n",
        "matrix['merchant_id'] = matrix['merchant_id'].astype('int32')\n",
        "del user_info, train_data1\n",
        "gc.collect()"
      ],
      "execution_count": 0,
      "outputs": [
        {
          "output_type": "execute_result",
          "data": {
            "text/plain": [
              "4355"
            ]
          },
          "metadata": {
            "tags": []
          },
          "execution_count": 34
        }
      ]
    },
    {
      "cell_type": "code",
      "metadata": {
        "id": "df6sUcYAORYT",
        "colab_type": "code",
        "outputId": "6f963a87-b879-4fa4-b893-a9d29ce095c0",
        "colab": {
          "base_uri": "https://localhost:8080/",
          "height": 322
        }
      },
      "source": [
        "\n",
        "# User特征处理\n",
        "groups = user_log.groupby(['user_id'])\n",
        "# 用户交互行为数量 u1\n",
        "temp = groups.size().reset_index().rename(columns={0:'u1'})\n",
        "matrix = matrix.merge(temp, on='user_id', how='left')\n",
        "# 使用agg 基于列的聚合操作，统计唯一值的个数 item_id, cat_id, merchant_id, brand_id\n",
        "#temp = groups['item_id', 'cat_id', 'merchant_id', 'brand_id'].nunique().reset_index().rename(columns={'item_id':'u2', 'cat_id':'u3', 'merchant_id':'u4', 'brand_id':'u5'})\n",
        "temp = groups['item_id'].agg([('u2', 'nunique')]).reset_index()\n",
        "matrix = matrix.merge(temp, on='user_id', how='left')\n",
        "temp = groups['cat_id'].agg([('u3', 'nunique')]).reset_index()\n",
        "matrix = matrix.merge(temp, on='user_id', how='left')\n",
        "temp = groups['merchant_id'].agg([('u4', 'nunique')]).reset_index()\n",
        "matrix = matrix.merge(temp, on='user_id', how='left')\n",
        "temp = groups['brand_id'].agg([('u5', 'nunique')]).reset_index()\n",
        "matrix = matrix.merge(temp, on='user_id', how='left')\n",
        "\n",
        "# 时间间隔特征 u6 按照小时\n",
        "temp = groups['time_stamp'].agg([('F_time', 'min'), ('L_time', 'max')]).reset_index()\n",
        "temp['u6'] = (temp['L_time'] - temp['F_time']).dt.seconds/3600\n",
        "matrix = matrix.merge(temp[['user_id', 'u6']], on='user_id', how='left')\n",
        "# 统计action_type为0，1，2，3的个数（原始操作，没有补0）\n",
        "temp = groups['action_type'].value_counts().unstack().reset_index().rename(columns={0:'u7', 1:'u8', 2:'u9', 3:'u10'})\n",
        "matrix = matrix.merge(temp, on='user_id', how='left')\n",
        "#print(matrix)\n",
        "\n",
        "# 商家特征处理\n",
        "groups = user_log.groupby(['merchant_id'])\n",
        "# 商家被交互行为数量 m1\n",
        "temp = groups.size().reset_index().rename(columns={0:'m1'})\n",
        "matrix = matrix.merge(temp, on='merchant_id', how='left')\n",
        "# 统计商家被交互的user_id, item_id, cat_id, brand_id 唯一值\n",
        "temp = groups['user_id', 'item_id', 'cat_id', 'brand_id'].nunique().reset_index().rename(columns={'user_id':'m2', 'item_id':'m3', 'cat_id':'m4', 'brand_id':'m5'})\n",
        "matrix = matrix.merge(temp, on='merchant_id', how='left')\n",
        "# 统计商家被交互的action_type 唯一值\n",
        "temp = groups['action_type'].value_counts().unstack().reset_index().rename(columns={0:'m6', 1:'m7', 2:'m8', 3:'m9'})\n",
        "matrix = matrix.merge(temp, on='merchant_id', how='left')\n",
        "# 按照merchant_id 统计随机负采样的个数\n",
        "temp = train_data[train_data['label']==-1].groupby(['merchant_id']).size().reset_index().rename(columns={0:'m10'})\n",
        "matrix = matrix.merge(temp, on='merchant_id', how='left')\n",
        "#print(matrix)\n",
        "\n",
        "# 按照user_id, merchant_id分组\n",
        "groups = user_log.groupby(['user_id', 'merchant_id'])\n",
        "temp = groups.size().reset_index().rename(columns={0:'um1'}) #统计行为个数\n",
        "matrix = matrix.merge(temp, on=['user_id', 'merchant_id'], how='left')\n",
        "temp = groups['item_id', 'cat_id', 'brand_id'].nunique().reset_index().rename(columns={'item_id':'um2', 'cat_id':'um3', 'brand_id':'um4'}) #统计item_id, cat_id, brand_id唯一个数\n",
        "matrix = matrix.merge(temp, on=['user_id', 'merchant_id'], how='left')\n",
        "temp = groups['action_type'].value_counts().unstack().reset_index().rename(columns={0:'um5', 1:'um6', 2:'um7', 3:'um8'})#统计不同action_type唯一个数\n",
        "matrix = matrix.merge(temp, on=['user_id', 'merchant_id'], how='left')\n",
        "temp = groups['time_stamp'].agg([('first', 'min'), ('last', 'max')]).reset_index()\n",
        "temp['um9'] = (temp['last'] - temp['first']).dt.seconds/3600\n",
        "temp.drop(['first', 'last'], axis=1, inplace=True)\n",
        "print(temp)\n",
        "print('-'*100)\n",
        "matrix = matrix.merge(temp, on=['user_id', 'merchant_id'], how='left') #统计时间间隔\n",
        "#print(matrix)"
      ],
      "execution_count": 0,
      "outputs": [
        {
          "output_type": "stream",
          "text": [
            "/usr/local/lib/python3.6/dist-packages/ipykernel_launcher.py:31: FutureWarning: Indexing with multiple keys (implicitly converted to a tuple of keys) will be deprecated, use a list instead.\n",
            "/usr/local/lib/python3.6/dist-packages/ipykernel_launcher.py:45: FutureWarning: Indexing with multiple keys (implicitly converted to a tuple of keys) will be deprecated, use a list instead.\n"
          ],
          "name": "stderr"
        },
        {
          "output_type": "stream",
          "text": [
            "        user_id  merchant_id       um9\n",
            "0             0          186  0.883333\n",
            "1             0          202  0.000000\n",
            "2             0          523  0.000000\n",
            "3             0          774  0.000000\n",
            "4             0          956  0.000000\n",
            "...         ...          ...       ...\n",
            "635221    19111         2874  0.000000\n",
            "635222    19111         3833  0.000000\n",
            "635223    19111         4480  0.000000\n",
            "635224    19111         4522  0.000000\n",
            "635225    19111         4950  0.000000\n",
            "\n",
            "[635226 rows x 3 columns]\n",
            "----------------------------------------------------------------------------------------------------\n"
          ],
          "name": "stdout"
        }
      ]
    },
    {
      "cell_type": "code",
      "metadata": {
        "id": "7lPIW5l4OY07",
        "colab_type": "code",
        "outputId": "5692bf3b-3330-470d-fba2-a7c5907ca278",
        "colab": {
          "base_uri": "https://localhost:8080/",
          "height": 524
        }
      },
      "source": [
        "\n",
        "#用户购买点击比\n",
        "matrix['r1'] = matrix['u9']/matrix['u7'] \n",
        "#商家购买点击比\n",
        "matrix['r2'] = matrix['m8']/matrix['m6'] \n",
        "#不同用户不同商家购买点击比\n",
        "matrix['r3'] = matrix['um7']/matrix['um5']\n",
        "matrix.fillna(0, inplace=True)\n",
        "# # 修改age_range字段名称为 age_0, age_1, age_2... age_8\n",
        "temp = pd.get_dummies(matrix['age_range'], prefix='age')\n",
        "matrix = pd.concat([matrix, temp], axis=1)\n",
        "temp = pd.get_dummies(matrix['gender'], prefix='g')\n",
        "matrix = pd.concat([matrix, temp], axis=1)\n",
        "matrix.drop(['age_range', 'gender'], axis=1, inplace=True)\n",
        "#print(matrix)\n",
        "\n",
        "lbe_action_type={0:1,1:2,2:3,3:4}\n",
        "user_log['action_type']=user_log['action_type'].map(lbe_action_type)\n",
        "# 用户行为sequence\n",
        "# 把user_log里同user的这些数据合并成一个list\n",
        "temp=pd.DataFrame(user_log.groupby('user_id')['merchant_id','action_type'].agg(lambda x:list(x)))\n",
        "# 列名称改成hist_merchant_id 和 hist_action_type \n",
        "temp.columns=['hist_merchant_id','hist_action_type']\n",
        "#print(temp)\n",
        "matrix = matrix.merge(temp, on=['user_id'], how='left') #统计时间间隔\n",
        "print(matrix)\n",
        "\n",
        "# 截取，不缺到定长M个\n",
        "M=500\n",
        "for feature in ['hist_merchant_id','hist_action_type']:\n",
        "    matrix[feature]=matrix[feature].map(lambda x:np.array(x+[0]*(M-len(x)))[:M])\n",
        "\n",
        "# 分割训练数据和测试数据\n",
        "train_data = matrix[matrix['origin'] == 'train'].drop(['origin'], axis=1)\n",
        "test_data = matrix[matrix['origin'] == 'test'].drop(['label', 'origin'], axis=1)\n",
        "train_X, train_y = train_data.drop(['label'], axis=1), train_data['label']\n",
        "print(train_X)\n"
      ],
      "execution_count": 0,
      "outputs": [
        {
          "output_type": "stream",
          "text": [
            "/usr/local/lib/python3.6/dist-packages/ipykernel_launcher.py:19: FutureWarning: Indexing with multiple keys (implicitly converted to a tuple of keys) will be deprecated, use a list instead.\n"
          ],
          "name": "stderr"
        },
        {
          "output_type": "stream",
          "text": [
            "       user_id  ...                                   hist_action_type\n",
            "0        16497  ...  [1, 3, 1, 1, 1, 1, 1, 1, 1, 1, 1, 1, 1, 1, 1, ...\n",
            "1         1950  ...  [4, 1, 1, 1, 1, 1, 1, 1, 1, 1, 1, 1, 1, 1, 1, ...\n",
            "2        10829  ...  [3, 3, 1, 1, 1, 1, 1, 1, 1, 1, 1, 1, 1, 1, 1, ...\n",
            "3         7974  ...  [1, 1, 1, 1, 1, 1, 1, 1, 1, 1, 1, 1, 1, 4, 1, ...\n",
            "4        14604  ...  [1, 1, 1, 4, 1, 1, 1, 1, 1, 4, 1, 4, 3, 1, 1, ...\n",
            "...        ...  ...                                                ...\n",
            "23888     2157  ...  [1, 3, 1, 1, 1, 1, 1, 1, 1, 1, 1, 1, 1, 1, 1, ...\n",
            "23889     2673  ...  [1, 1, 1, 1, 1, 1, 1, 1, 1, 1, 1, 1, 1, 1, 1, ...\n",
            "23890    11847  ...                        [1, 1, 1, 1, 3, 3, 1, 1, 1]\n",
            "23891    11847  ...                        [1, 1, 1, 1, 3, 3, 1, 1, 1]\n",
            "23892    19079  ...  [1, 1, 1, 1, 1, 1, 1, 1, 1, 3, 3, 3, 3, 3, 1, ...\n",
            "\n",
            "[23893 rows x 50 columns]\n",
            "       user_id  ...                                   hist_action_type\n",
            "0        16497  ...  [1, 3, 1, 1, 1, 1, 1, 1, 1, 1, 1, 1, 1, 1, 1, ...\n",
            "1         1950  ...  [4, 1, 1, 1, 1, 1, 1, 1, 1, 1, 1, 1, 1, 1, 1, ...\n",
            "2        10829  ...  [3, 3, 1, 1, 1, 1, 1, 1, 1, 1, 1, 1, 1, 1, 1, ...\n",
            "3         7974  ...  [1, 1, 1, 1, 1, 1, 1, 1, 1, 1, 1, 1, 1, 4, 1, ...\n",
            "4        14604  ...  [1, 1, 1, 4, 1, 1, 1, 1, 1, 4, 1, 4, 3, 1, 1, ...\n",
            "...        ...  ...                                                ...\n",
            "17832    18547  ...  [1, 3, 1, 1, 1, 1, 1, 1, 1, 1, 3, 1, 1, 1, 1, ...\n",
            "17833    18693  ...  [1, 1, 1, 1, 1, 3, 1, 1, 1, 1, 3, 3, 3, 3, 1, ...\n",
            "17834     4034  ...  [1, 1, 1, 1, 3, 1, 1, 1, 1, 1, 1, 1, 1, 1, 1, ...\n",
            "17835    16017  ...  [1, 1, 1, 3, 1, 1, 1, 1, 1, 1, 1, 1, 1, 1, 1, ...\n",
            "17836     7308  ...  [3, 1, 3, 1, 1, 1, 1, 3, 1, 1, 1, 1, 3, 1, 3, ...\n",
            "\n",
            "[17837 rows x 48 columns]\n"
          ],
          "name": "stdout"
        }
      ]
    },
    {
      "cell_type": "code",
      "metadata": {
        "id": "hSi0g-jWOoto",
        "colab_type": "code",
        "outputId": "c7e676e4-e0ac-4f00-92e8-86e55012e53e",
        "colab": {
          "base_uri": "https://localhost:8080/",
          "height": 255
        }
      },
      "source": [
        "!pip install deepctr"
      ],
      "execution_count": 0,
      "outputs": [
        {
          "output_type": "stream",
          "text": [
            "Collecting deepctr\n",
            "\u001b[?25l  Downloading https://files.pythonhosted.org/packages/f2/f8/6980aa97741a6b7a1548116cb968d3bd3cf5f48bf5afe23b1a8024ddd3ba/deepctr-0.7.4-py3-none-any.whl (81kB)\n",
            "\r\u001b[K     |████                            | 10kB 18.3MB/s eta 0:00:01\r\u001b[K     |████████                        | 20kB 1.8MB/s eta 0:00:01\r\u001b[K     |████████████                    | 30kB 2.6MB/s eta 0:00:01\r\u001b[K     |████████████████                | 40kB 1.8MB/s eta 0:00:01\r\u001b[K     |████████████████████            | 51kB 2.2MB/s eta 0:00:01\r\u001b[K     |████████████████████████        | 61kB 2.6MB/s eta 0:00:01\r\u001b[K     |████████████████████████████    | 71kB 3.0MB/s eta 0:00:01\r\u001b[K     |████████████████████████████████| 81kB 3.4MB/s eta 0:00:01\r\u001b[K     |████████████████████████████████| 92kB 3.0MB/s \n",
            "\u001b[?25hRequirement already satisfied: h5py in /usr/local/lib/python3.6/dist-packages (from deepctr) (2.10.0)\n",
            "Requirement already satisfied: requests in /usr/local/lib/python3.6/dist-packages (from deepctr) (2.21.0)\n",
            "Requirement already satisfied: numpy>=1.7 in /usr/local/lib/python3.6/dist-packages (from h5py->deepctr) (1.18.2)\n",
            "Requirement already satisfied: six in /usr/local/lib/python3.6/dist-packages (from h5py->deepctr) (1.12.0)\n",
            "Requirement already satisfied: certifi>=2017.4.17 in /usr/local/lib/python3.6/dist-packages (from requests->deepctr) (2020.4.5.1)\n",
            "Requirement already satisfied: idna<2.9,>=2.5 in /usr/local/lib/python3.6/dist-packages (from requests->deepctr) (2.8)\n",
            "Requirement already satisfied: chardet<3.1.0,>=3.0.2 in /usr/local/lib/python3.6/dist-packages (from requests->deepctr) (3.0.4)\n",
            "Requirement already satisfied: urllib3<1.25,>=1.21.1 in /usr/local/lib/python3.6/dist-packages (from requests->deepctr) (1.24.3)\n",
            "Installing collected packages: deepctr\n",
            "Successfully installed deepctr-0.7.4\n"
          ],
          "name": "stdout"
        }
      ]
    },
    {
      "cell_type": "code",
      "metadata": {
        "id": "1mJE8xajOhID",
        "colab_type": "code",
        "colab": {}
      },
      "source": [
        "\n",
        "# 使用DIN模型\n",
        "from sklearn.model_selection import train_test_split\n",
        "from sklearn.ensemble import RandomForestClassifier\n",
        "from sklearn.linear_model import LinearRegression\n",
        "from sklearn.metrics import log_loss\n",
        "from deepctr.inputs import SparseFeat,VarLenSparseFeat,DenseFeat,get_feature_names\n",
        "from deepctr.models import DIN, DIEN, DSIN\n",
        "from sklearn.metrics import classification_report\n",
        "from tensorflow.keras.optimizers import Adam\n"
      ],
      "execution_count": 0,
      "outputs": []
    },
    {
      "cell_type": "code",
      "metadata": {
        "id": "IZrm_XjtOluz",
        "colab_type": "code",
        "outputId": "abd7eeee-6beb-4f54-9a78-1526f780e257",
        "colab": {
          "base_uri": "https://localhost:8080/",
          "height": 1000
        }
      },
      "source": [
        "\n",
        "train_X['action_type']=3\n",
        "feature_columns = []\n",
        "for column in train_X.columns:\n",
        "  if column != 'hist_merchant_id' and column != 'hist_action_type':\n",
        "    print(column)\n",
        "    num = train_X[column].nunique()\n",
        "    if num > 10000:\n",
        "        dim = 10\n",
        "    else:\n",
        "        if num > 1000:\n",
        "            dim = 8\n",
        "        else:\n",
        "            dim = 4\n",
        "    print(num)\n",
        "    if column  == 'user_id':\n",
        "        feature_columns += [SparseFeat(column, 19111+1, embedding_dim=dim)]\n",
        "    elif column  == 'merchant_id':\n",
        "        feature_columns += [SparseFeat(column, 4994+1, embedding_dim=dim)]\n",
        "    elif column  == 'action_type':\n",
        "        feature_columns += [SparseFeat(column, 4+1, embedding_dim=dim)]\n",
        "    else:\n",
        "        feature_columns += [DenseFeat(column, 1)]\n",
        "\n",
        "#print(train_X['hist_merchant_id'].shape)\n",
        "#M = len(train_X['hist_merchant_id'])\n",
        "\n",
        "print('M=', M)"
      ],
      "execution_count": 0,
      "outputs": [
        {
          "output_type": "stream",
          "text": [
            "user_id\n",
            "14488\n",
            "merchant_id\n",
            "1856\n",
            "prob\n",
            "1\n",
            "u1\n",
            "825\n",
            "u2\n",
            "539\n",
            "u3\n",
            "124\n",
            "u4\n",
            "246\n",
            "u5\n",
            "237\n",
            "u6\n",
            "184\n",
            "u7\n",
            "772\n",
            "u8\n",
            "17\n",
            "u9\n",
            "79\n",
            "u10\n",
            "161\n",
            "m1\n",
            "805\n",
            "m2\n",
            "406\n",
            "m3\n",
            "292\n",
            "m4\n",
            "56\n",
            "m5\n",
            "35\n",
            "m6\n",
            "757\n",
            "m7\n",
            "23\n",
            "m8\n",
            "208\n",
            "m9\n",
            "163\n",
            "m10\n",
            "1294\n",
            "um1\n",
            "170\n",
            "um2\n",
            "94\n",
            "um3\n",
            "22\n",
            "um4\n",
            "12\n",
            "um5\n",
            "166\n",
            "um6\n",
            "8\n",
            "um7\n",
            "10\n",
            "um8\n",
            "26\n",
            "um9\n",
            "184\n",
            "r1\n",
            "3265\n",
            "r2\n",
            "1413\n",
            "r3\n",
            "394\n",
            "age_0\n",
            "2\n",
            "age_2\n",
            "2\n",
            "age_3\n",
            "2\n",
            "age_4\n",
            "2\n",
            "age_5\n",
            "2\n",
            "age_6\n",
            "2\n",
            "age_7\n",
            "2\n",
            "age_8\n",
            "2\n",
            "g_0\n",
            "2\n",
            "g_1\n",
            "2\n",
            "g_2\n",
            "2\n",
            "action_type\n",
            "1\n",
            "M= 500\n"
          ],
          "name": "stdout"
        }
      ]
    },
    {
      "cell_type": "code",
      "metadata": {
        "id": "PrwycvLlOxYL",
        "colab_type": "code",
        "outputId": "c4c2d769-ef13-4fec-e4c4-a65467d76707",
        "colab": {
          "base_uri": "https://localhost:8080/",
          "height": 54
        }
      },
      "source": [
        "# maxlen为历史信息的长度，vocabulary_size为onehot的长度\n",
        "feature_columns += [VarLenSparseFeat(SparseFeat('hist_merchant_id',vocabulary_size=19111+1,embedding_dim=8,embedding_name ='merchant_id'), maxlen=M),\n",
        "                   VarLenSparseFeat(SparseFeat('hist_action_type', vocabulary_size=4+1, embedding_dim=4,embedding_name ='action_type'), maxlen=M)]\n",
        "hist_features=['merchant_id','action_type']\n",
        "print(feature_columns)"
      ],
      "execution_count": 0,
      "outputs": [
        {
          "output_type": "stream",
          "text": [
            "[SparseFeat(name='user_id', vocabulary_size=19112, embedding_dim=10, use_hash=False, dtype='int32', embedding_name='user_id', group_name='default_group'), SparseFeat(name='merchant_id', vocabulary_size=4995, embedding_dim=8, use_hash=False, dtype='int32', embedding_name='merchant_id', group_name='default_group'), DenseFeat(name='prob', dimension=1, dtype='float32'), DenseFeat(name='u1', dimension=1, dtype='float32'), DenseFeat(name='u2', dimension=1, dtype='float32'), DenseFeat(name='u3', dimension=1, dtype='float32'), DenseFeat(name='u4', dimension=1, dtype='float32'), DenseFeat(name='u5', dimension=1, dtype='float32'), DenseFeat(name='u6', dimension=1, dtype='float32'), DenseFeat(name='u7', dimension=1, dtype='float32'), DenseFeat(name='u8', dimension=1, dtype='float32'), DenseFeat(name='u9', dimension=1, dtype='float32'), DenseFeat(name='u10', dimension=1, dtype='float32'), DenseFeat(name='m1', dimension=1, dtype='float32'), DenseFeat(name='m2', dimension=1, dtype='float32'), DenseFeat(name='m3', dimension=1, dtype='float32'), DenseFeat(name='m4', dimension=1, dtype='float32'), DenseFeat(name='m5', dimension=1, dtype='float32'), DenseFeat(name='m6', dimension=1, dtype='float32'), DenseFeat(name='m7', dimension=1, dtype='float32'), DenseFeat(name='m8', dimension=1, dtype='float32'), DenseFeat(name='m9', dimension=1, dtype='float32'), DenseFeat(name='m10', dimension=1, dtype='float32'), DenseFeat(name='um1', dimension=1, dtype='float32'), DenseFeat(name='um2', dimension=1, dtype='float32'), DenseFeat(name='um3', dimension=1, dtype='float32'), DenseFeat(name='um4', dimension=1, dtype='float32'), DenseFeat(name='um5', dimension=1, dtype='float32'), DenseFeat(name='um6', dimension=1, dtype='float32'), DenseFeat(name='um7', dimension=1, dtype='float32'), DenseFeat(name='um8', dimension=1, dtype='float32'), DenseFeat(name='um9', dimension=1, dtype='float32'), DenseFeat(name='r1', dimension=1, dtype='float32'), DenseFeat(name='r2', dimension=1, dtype='float32'), DenseFeat(name='r3', dimension=1, dtype='float32'), DenseFeat(name='age_0', dimension=1, dtype='float32'), DenseFeat(name='age_2', dimension=1, dtype='float32'), DenseFeat(name='age_3', dimension=1, dtype='float32'), DenseFeat(name='age_4', dimension=1, dtype='float32'), DenseFeat(name='age_5', dimension=1, dtype='float32'), DenseFeat(name='age_6', dimension=1, dtype='float32'), DenseFeat(name='age_7', dimension=1, dtype='float32'), DenseFeat(name='age_8', dimension=1, dtype='float32'), DenseFeat(name='g_0', dimension=1, dtype='float32'), DenseFeat(name='g_1', dimension=1, dtype='float32'), DenseFeat(name='g_2', dimension=1, dtype='float32'), SparseFeat(name='action_type', vocabulary_size=5, embedding_dim=4, use_hash=False, dtype='int32', embedding_name='action_type', group_name='default_group'), VarLenSparseFeat(sparsefeat=SparseFeat(name='hist_merchant_id', vocabulary_size=19112, embedding_dim=8, use_hash=False, dtype='int32', embedding_name='merchant_id', group_name='default_group'), maxlen=500, combiner='mean', length_name=None, weight_name=None, weight_norm=True), VarLenSparseFeat(sparsefeat=SparseFeat(name='hist_action_type', vocabulary_size=5, embedding_dim=4, use_hash=False, dtype='int32', embedding_name='action_type', group_name='default_group'), maxlen=500, combiner='mean', length_name=None, weight_name=None, weight_norm=True)]\n"
          ],
          "name": "stdout"
        }
      ]
    },
    {
      "cell_type": "code",
      "metadata": {
        "id": "NVoJ3PnbPq--",
        "colab_type": "code",
        "outputId": "18bb9c25-d961-406a-c94f-b34f1d488ab0",
        "colab": {
          "base_uri": "https://localhost:8080/",
          "height": 185
        }
      },
      "source": [
        "# 使用DIN模型\n",
        "model=DIN(feature_columns, hist_features)\n",
        "# 使用Adam优化器，二分类的交叉熵\n",
        "model.compile('adam', 'binary_crossentropy', metrics=['binary_crossentropy'])\n",
        "\n",
        "# 组装train_model_input，得到feature names，将train_X转换为字典格式\n",
        "feature_names=list(train_X.columns)\n",
        "train_model_input = {name:train_X[name].values for name in feature_names}\n",
        "# histroy输入必须是二维数组\n",
        "from tqdm import tqdm\n",
        "for fea in ['hist_merchant_id','hist_action_type']:\n",
        "    l = []\n",
        "    for i in tqdm(train_model_input[fea]):\n",
        "        l.append(i)\n",
        "    train_model_input[fea]=np.array(l)"
      ],
      "execution_count": 0,
      "outputs": [
        {
          "output_type": "stream",
          "text": [
            "WARNING:tensorflow:\n",
            "The following Variables were used a Lambda layer's call (lambda_2), but\n",
            "are not present in its tracked objects:\n",
            "  <tf.Variable 'attention_sequence_pooling_layer_2/local_activation_unit_2/kernel:0' shape=(40, 1) dtype=float32>\n",
            "  <tf.Variable 'attention_sequence_pooling_layer_2/local_activation_unit_2/bias:0' shape=(1,) dtype=float32>\n",
            "It is possible that this is intended behavior, but it is more likely\n",
            "an omission. This is a strong indication that this layer should be\n",
            "formulated as a subclassed Layer rather than a Lambda layer.\n"
          ],
          "name": "stdout"
        },
        {
          "output_type": "stream",
          "text": [
            "100%|██████████| 17837/17837 [00:00<00:00, 1798841.08it/s]\n",
            "100%|██████████| 17837/17837 [00:00<00:00, 1605963.30it/s]\n"
          ],
          "name": "stderr"
        }
      ]
    },
    {
      "cell_type": "code",
      "metadata": {
        "id": "udkqHl2SS8Ag",
        "colab_type": "code",
        "colab": {}
      },
      "source": [
        "# 使用DIN模型\n",
        "model = DIN(feature_columns, hist_features)\n",
        "# 使用Adam优化器，二分类的交叉熵\n",
        "model.compile(Adam(1e-3),'binary_crossentropy',metrics=['binary_crossentropy'])\n",
        "# 组装train_model_input，得到feature names，将train_X转换为字典格式\n",
        "feature_names = list(train_X.columns)\n",
        "train_model_input = {name: train_X[name].values for name in feature_names}\n",
        "from tqdm import tqdm\n",
        "\n",
        "for fea in ['hist_merchant_id', 'hist_action_type']:\n",
        "    l = []\n",
        "    for i in tqdm(train_model_input[fea]):\n",
        "        l.append(i)\n",
        "    train_model_input[fea] = np.array(l)"
      ],
      "execution_count": 0,
      "outputs": []
    },
    {
      "cell_type": "code",
      "metadata": {
        "id": "nrYxnCHfSdrK",
        "colab_type": "code",
        "outputId": "d6b0b681-fcf1-42bd-da11-88682c5452ca",
        "colab": {
          "base_uri": "https://localhost:8080/",
          "height": 373
        }
      },
      "source": [
        "history = model.fit(train_model_input,train_y.astype(np.float), verbose=True, epochs=10, validation_split=0.2,batch_size=512)"
      ],
      "execution_count": 0,
      "outputs": [
        {
          "output_type": "stream",
          "text": [
            "Epoch 1/10\n",
            "28/28 [==============================] - 40s 1s/step - loss: 0.9153 - binary_crossentropy: 0.9135 - val_loss: 0.9338 - val_binary_crossentropy: 0.9338\n",
            "Epoch 2/10\n",
            "28/28 [==============================] - 40s 1s/step - loss: 0.9144 - binary_crossentropy: 0.9135 - val_loss: 0.9338 - val_binary_crossentropy: 0.9338\n",
            "Epoch 3/10\n",
            "28/28 [==============================] - 40s 1s/step - loss: 0.9123 - binary_crossentropy: 0.9135 - val_loss: 0.9338 - val_binary_crossentropy: 0.9338\n",
            "Epoch 4/10\n",
            "28/28 [==============================] - 42s 2s/step - loss: 0.9136 - binary_crossentropy: 0.9135 - val_loss: 0.9338 - val_binary_crossentropy: 0.9338\n",
            "Epoch 5/10\n",
            "28/28 [==============================] - 41s 1s/step - loss: 0.9136 - binary_crossentropy: 0.9135 - val_loss: 0.9338 - val_binary_crossentropy: 0.9338\n",
            "Epoch 6/10\n",
            "28/28 [==============================] - 40s 1s/step - loss: 0.9129 - binary_crossentropy: 0.9135 - val_loss: 0.9338 - val_binary_crossentropy: 0.9338\n",
            "Epoch 7/10\n",
            "28/28 [==============================] - 40s 1s/step - loss: 0.9142 - binary_crossentropy: 0.9135 - val_loss: 0.9338 - val_binary_crossentropy: 0.9338\n",
            "Epoch 8/10\n",
            "28/28 [==============================] - 40s 1s/step - loss: 0.9124 - binary_crossentropy: 0.9135 - val_loss: 0.9338 - val_binary_crossentropy: 0.9338\n",
            "Epoch 9/10\n",
            "28/28 [==============================] - 40s 1s/step - loss: 0.9144 - binary_crossentropy: 0.9135 - val_loss: 0.9338 - val_binary_crossentropy: 0.9338\n",
            "Epoch 10/10\n",
            "28/28 [==============================] - 40s 1s/step - loss: 0.9132 - binary_crossentropy: 0.9135 - val_loss: 0.9338 - val_binary_crossentropy: 0.9338\n"
          ],
          "name": "stdout"
        }
      ]
    },
    {
      "cell_type": "code",
      "metadata": {
        "id": "ZRf2-RYbSqQm",
        "colab_type": "code",
        "outputId": "136b10df-ed64-4e9e-984f-73c8925b976f",
        "colab": {
          "base_uri": "https://localhost:8080/",
          "height": 50
        }
      },
      "source": [
        "# 转换test__model_input\n",
        "test_data['action_type']=3\n",
        "test_model_input = {name:test_data[name].values for name in feature_names}\n",
        "from tqdm import tqdm\n",
        "for fea in ['hist_merchant_id','hist_action_type']:\n",
        "    l = []\n",
        "    for i in tqdm(test_model_input[fea]):\n",
        "        l.append(i)\n",
        "    test_model_input[fea]=np.array(l)\n",
        "\n",
        "# 得到预测结果\n",
        "prob = model.predict(test_model_input)\n",
        "submission['prob'] = prob"
      ],
      "execution_count": 0,
      "outputs": [
        {
          "output_type": "stream",
          "text": [
            "100%|██████████| 6056/6056 [00:00<00:00, 615953.85it/s]\n",
            "100%|██████████| 6056/6056 [00:00<00:00, 1374273.93it/s]\n"
          ],
          "name": "stderr"
        }
      ]
    },
    {
      "cell_type": "code",
      "metadata": {
        "id": "xP7fddSlUr7U",
        "colab_type": "code",
        "outputId": "d8af5d36-6e6a-4b79-ba28-7e408dd90eba",
        "colab": {
          "base_uri": "https://localhost:8080/",
          "height": 195
        }
      },
      "source": [
        "submission.head()"
      ],
      "execution_count": 0,
      "outputs": [
        {
          "output_type": "execute_result",
          "data": {
            "text/html": [
              "<div>\n",
              "<style scoped>\n",
              "    .dataframe tbody tr th:only-of-type {\n",
              "        vertical-align: middle;\n",
              "    }\n",
              "\n",
              "    .dataframe tbody tr th {\n",
              "        vertical-align: top;\n",
              "    }\n",
              "\n",
              "    .dataframe thead th {\n",
              "        text-align: right;\n",
              "    }\n",
              "</style>\n",
              "<table border=\"1\" class=\"dataframe\">\n",
              "  <thead>\n",
              "    <tr style=\"text-align: right;\">\n",
              "      <th></th>\n",
              "      <th>user_id</th>\n",
              "      <th>merchant_id</th>\n",
              "      <th>prob</th>\n",
              "    </tr>\n",
              "  </thead>\n",
              "  <tbody>\n",
              "    <tr>\n",
              "      <th>0</th>\n",
              "      <td>40320</td>\n",
              "      <td>4173</td>\n",
              "      <td>0.0</td>\n",
              "    </tr>\n",
              "    <tr>\n",
              "      <th>1</th>\n",
              "      <td>309120</td>\n",
              "      <td>4775</td>\n",
              "      <td>0.0</td>\n",
              "    </tr>\n",
              "    <tr>\n",
              "      <th>2</th>\n",
              "      <td>117120</td>\n",
              "      <td>3826</td>\n",
              "      <td>0.0</td>\n",
              "    </tr>\n",
              "    <tr>\n",
              "      <th>3</th>\n",
              "      <td>127104</td>\n",
              "      <td>4048</td>\n",
              "      <td>0.0</td>\n",
              "    </tr>\n",
              "    <tr>\n",
              "      <th>4</th>\n",
              "      <td>331392</td>\n",
              "      <td>1978</td>\n",
              "      <td>0.0</td>\n",
              "    </tr>\n",
              "  </tbody>\n",
              "</table>\n",
              "</div>"
            ],
            "text/plain": [
              "   user_id  merchant_id  prob\n",
              "0    40320         4173   0.0\n",
              "1   309120         4775   0.0\n",
              "2   117120         3826   0.0\n",
              "3   127104         4048   0.0\n",
              "4   331392         1978   0.0"
            ]
          },
          "metadata": {
            "tags": []
          },
          "execution_count": 57
        }
      ]
    },
    {
      "cell_type": "code",
      "metadata": {
        "id": "XOK_snQhQxQo",
        "colab_type": "code",
        "colab": {}
      },
      "source": [
        "submission.to_csv('prediction.csv', index=False)\n"
      ],
      "execution_count": 0,
      "outputs": []
    },
    {
      "cell_type": "code",
      "metadata": {
        "id": "JxgvlEvRUZmY",
        "colab_type": "code",
        "colab": {}
      },
      "source": [
        ""
      ],
      "execution_count": 0,
      "outputs": []
    }
  ]
}