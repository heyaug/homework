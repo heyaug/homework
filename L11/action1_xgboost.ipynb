{
  "nbformat": 4,
  "nbformat_minor": 0,
  "metadata": {
    "colab": {
      "name": "欢迎使用 Colaboratory",
      "provenance": [],
      "collapsed_sections": [],
      "toc_visible": true,
      "include_colab_link": true
    },
    "kernelspec": {
      "name": "python3",
      "display_name": "Python 3"
    },
    "accelerator": "GPU"
  },
  "cells": [
    {
      "cell_type": "markdown",
      "metadata": {
        "id": "view-in-github",
        "colab_type": "text"
      },
      "source": [
        "<a href=\"https://colab.research.google.com/github/heyaug/homework/blob/master/L11/action1_xgboost.ipynb\" target=\"_parent\"><img src=\"https://colab.research.google.com/assets/colab-badge.svg\" alt=\"Open In Colab\"/></a>"
      ]
    },
    {
      "cell_type": "code",
      "metadata": {
        "id": "KRzMnl1iLC4W",
        "colab_type": "code",
        "colab": {
          "base_uri": "https://localhost:8080/",
          "height": 121
        },
        "outputId": "28ebb194-ab1e-4d12-992c-3b06bfc593bf"
      },
      "source": [
        "from google.colab import drive\n",
        "drive.mount('/content/drive')"
      ],
      "execution_count": 2,
      "outputs": [
        {
          "output_type": "stream",
          "text": [
            "Go to this URL in a browser: https://accounts.google.com/o/oauth2/auth?client_id=947318989803-6bn6qk8qdgf4n4g3pfee6491hc0brc4i.apps.googleusercontent.com&redirect_uri=urn%3aietf%3awg%3aoauth%3a2.0%3aoob&response_type=code&scope=email%20https%3a%2f%2fwww.googleapis.com%2fauth%2fdocs.test%20https%3a%2f%2fwww.googleapis.com%2fauth%2fdrive%20https%3a%2f%2fwww.googleapis.com%2fauth%2fdrive.photos.readonly%20https%3a%2f%2fwww.googleapis.com%2fauth%2fpeopleapi.readonly\n",
            "\n",
            "Enter your authorization code:\n",
            "··········\n",
            "Mounted at /content/drive\n"
          ],
          "name": "stdout"
        }
      ]
    },
    {
      "cell_type": "code",
      "metadata": {
        "id": "l8PKw_9BKhj2",
        "colab_type": "code",
        "colab": {}
      },
      "source": [
        "import gc\n",
        "import numpy as np\n",
        "import pandas as pd\n",
        "from sklearn.preprocessing import LabelEncoder\n",
        "# 用户行为，使用format1进行加载\n",
        "# 加载小样本\n",
        "user_log = pd.read_csv('./drive/My Drive/sample_user_log.csv', dtype={'time_stamp':'str'})\n",
        "user_info = pd.read_csv('./drive/My Drive/sample_user_info.csv')\n",
        "train_data1 = pd.read_csv('./drive/My Drive/train.csv')\n",
        "submission = pd.read_csv('./drive/My Drive/test.csv')\n",
        "train_data = pd.read_csv('./drive/My Drive/train_format2.csv')"
      ],
      "execution_count": 0,
      "outputs": []
    },
    {
      "cell_type": "code",
      "metadata": {
        "id": "1TluPcBRNrrL",
        "colab_type": "code",
        "colab": {
          "base_uri": "https://localhost:8080/",
          "height": 252
        },
        "outputId": "e9aab9ed-a96d-47c0-d266-cdadea1f6ff0"
      },
      "source": [
        "train_data1['origin'] = 'train'\n",
        "submission['origin'] = 'test'\n",
        "matrix = pd.concat([train_data1, submission], ignore_index=True, sort=False)\n",
        "#print(matrix)\n",
        "\n",
        "matrix.drop(['prob'], axis=1, inplace=True)\n",
        "# 连接user_info表，通过user_id关联\n",
        "matrix = matrix.merge(user_info, on='user_id', how='left')\n",
        "# 使用merchant_id（原列名seller_id）\n",
        "user_log.rename(columns={'seller_id':'merchant_id'}, inplace=True)\n",
        "# 格式化\n",
        "user_log['user_id'] = user_log['user_id'].astype('int32')\n",
        "user_log['merchant_id'] = user_log['merchant_id'].astype('int32')\n",
        "user_log['item_id'] = user_log['item_id'].astype('int32')\n",
        "user_log['cat_id'] = user_log['cat_id'].astype('int32')\n",
        "user_log['brand_id'].fillna(0, inplace=True)\n",
        "user_log['brand_id'] = user_log['brand_id'].astype('int32')\n",
        "user_log['time_stamp'] = pd.to_datetime(user_log['time_stamp'], format='%H%M')\n",
        "# 1 for <18; 2 for [18,24]; 3 for [25,29]; 4 for [30,34]; 5 for [35,39]; 6 for [40,49]; 7 and 8 for >= 50; 0 and NULL for unknown\n",
        "matrix['age_range'].fillna(0, inplace=True)\n",
        "# 0:female, 1:male, 2:unknown\n",
        "matrix['gender'].fillna(2, inplace=True)\n",
        "matrix['age_range'] = matrix['age_range'].astype('int8')\n",
        "matrix['gender'] = matrix['gender'].astype('int8')\n",
        "matrix['label'] = matrix['label'].astype('str')\n",
        "matrix['user_id'] = matrix['user_id'].astype('int32')\n",
        "matrix['merchant_id'] = matrix['merchant_id'].astype('int32')\n",
        "del user_info, train_data1\n",
        "gc.collect()\n",
        "print(matrix)\n",
        "\n",
        "# User特征处理\n",
        "groups = user_log.groupby(['user_id'])\n",
        "# 用户交互行为数量 u1\n",
        "temp = groups.size().reset_index().rename(columns={0:'u1'})\n",
        "matrix = matrix.merge(temp, on='user_id', how='left')\n",
        "# 使用agg 基于列的聚合操作，统计唯一值的个数 item_id, cat_id, merchant_id, brand_id\n",
        "#temp = groups['item_id', 'cat_id', 'merchant_id', 'brand_id'].nunique().reset_index().rename(columns={'item_id':'u2', 'cat_id':'u3', 'merchant_id':'u4', 'brand_id':'u5'})\n",
        "temp = groups['item_id'].agg([('u2', 'nunique')]).reset_index()\n",
        "matrix = matrix.merge(temp, on='user_id', how='left')\n",
        "temp = groups['cat_id'].agg([('u3', 'nunique')]).reset_index()\n",
        "matrix = matrix.merge(temp, on='user_id', how='left')\n",
        "temp = groups['merchant_id'].agg([('u4', 'nunique')]).reset_index()\n",
        "matrix = matrix.merge(temp, on='user_id', how='left')\n",
        "temp = groups['brand_id'].agg([('u5', 'nunique')]).reset_index()\n",
        "matrix = matrix.merge(temp, on='user_id', how='left')\n"
      ],
      "execution_count": 11,
      "outputs": [
        {
          "output_type": "stream",
          "text": [
            "       user_id  merchant_id label origin  age_range  gender\n",
            "0       365952         1203   0.0  train          0       1\n",
            "1        42624          946   0.0  train          2       0\n",
            "2       240000         2278   0.0  train          3       0\n",
            "3       177792          951   0.0  train          0       1\n",
            "4       322944         1892   0.0  train          7       0\n",
            "...        ...          ...   ...    ...        ...     ...\n",
            "23888    47231         1748   nan   test          0       0\n",
            "23889    59519          798   nan   test          3       0\n",
            "23890   263039          639   nan   test          2       1\n",
            "23891   263039         3954   nan   test          2       1\n",
            "23892   423551         2954   nan   test          4       0\n",
            "\n",
            "[23893 rows x 6 columns]\n"
          ],
          "name": "stdout"
        }
      ]
    },
    {
      "cell_type": "code",
      "metadata": {
        "id": "df6sUcYAORYT",
        "colab_type": "code",
        "colab": {
          "base_uri": "https://localhost:8080/",
          "height": 87
        },
        "outputId": "9a47a06a-3024-4887-cf5e-5a234380a4af"
      },
      "source": [
        "\n",
        "# 时间间隔特征 u6 按照小时\n",
        "temp = groups['time_stamp'].agg([('F_time', 'min'), ('L_time', 'max')]).reset_index()\n",
        "temp['u6'] = (temp['L_time'] - temp['F_time']).dt.seconds/3600\n",
        "matrix = matrix.merge(temp[['user_id', 'u6']], on='user_id', how='left')\n",
        "# 统计操作类型为0，1，2，3的个数\n",
        "temp = groups['action_type'].value_counts().unstack().reset_index().rename(columns={0:'u7', 1:'u8', 2:'u9', 3:'u10'})\n",
        "matrix = matrix.merge(temp, on='user_id', how='left')\n",
        "#print(matrix)\n",
        "\n",
        "# 商家特征处理\n",
        "groups = user_log.groupby(['merchant_id'])\n",
        "# 商家被交互行为数量 m1\n",
        "temp = groups.size().reset_index().rename(columns={0:'m1'})\n",
        "matrix = matrix.merge(temp, on='merchant_id', how='left')\n",
        "# 统计商家被交互的user_id, item_id, cat_id, brand_id 唯一值\n",
        "temp = groups['user_id', 'item_id', 'cat_id', 'brand_id'].nunique().reset_index().rename(columns={'user_id':'m2', 'item_id':'m3', 'cat_id':'m4', 'brand_id':'m5'})\n",
        "matrix = matrix.merge(temp, on='merchant_id', how='left')\n",
        "# 统计商家被交互的action_type 唯一值\n",
        "temp = groups['action_type'].value_counts().unstack().reset_index().rename(columns={0:'m6', 1:'m7', 2:'m8', 3:'m9'})\n",
        "matrix = matrix.merge(temp, on='merchant_id', how='left')\n",
        "# 按照merchant_id 统计随机负采样的个数\n",
        "temp = train_data[train_data['label']==-1].groupby(['merchant_id']).size().reset_index().rename(columns={0:'m10'})\n",
        "matrix = matrix.merge(temp, on='merchant_id', how='left')\n",
        "#print(matrix)\n",
        "\n",
        "# 按照user_id, merchant_id分组\n",
        "groups = user_log.groupby(['user_id', 'merchant_id'])\n",
        "temp = groups.size().reset_index().rename(columns={0:'um1'}) #统计行为个数\n",
        "matrix = matrix.merge(temp, on=['user_id', 'merchant_id'], how='left')\n",
        "temp = groups['item_id', 'cat_id', 'brand_id'].nunique().reset_index().rename(columns={'item_id':'um2', 'cat_id':'um3', 'brand_id':'um4'}) #统计item_id, cat_id, brand_id唯一个数\n",
        "matrix = matrix.merge(temp, on=['user_id', 'merchant_id'], how='left')\n",
        "temp = groups['action_type'].value_counts().unstack().reset_index().rename(columns={0:'um5', 1:'um6', 2:'um7', 3:'um8'})#统计不同action_type唯一个数\n",
        "matrix = matrix.merge(temp, on=['user_id', 'merchant_id'], how='left')\n",
        "temp = groups['time_stamp'].agg([('first', 'min'), ('last', 'max')]).reset_index()\n",
        "temp['um9'] = (temp['last'] - temp['first']).dt.seconds/3600\n",
        "temp.drop(['first', 'last'], axis=1, inplace=True)\n",
        "matrix = matrix.merge(temp, on=['user_id', 'merchant_id'], how='left') #统计时间间隔\n",
        "#print(matrix)\n"
      ],
      "execution_count": 12,
      "outputs": [
        {
          "output_type": "stream",
          "text": [
            "/usr/local/lib/python3.6/dist-packages/ipykernel_launcher.py:15: FutureWarning: Indexing with multiple keys (implicitly converted to a tuple of keys) will be deprecated, use a list instead.\n",
            "  from ipykernel import kernelapp as app\n",
            "/usr/local/lib/python3.6/dist-packages/ipykernel_launcher.py:29: FutureWarning: Indexing with multiple keys (implicitly converted to a tuple of keys) will be deprecated, use a list instead.\n"
          ],
          "name": "stderr"
        }
      ]
    },
    {
      "cell_type": "code",
      "metadata": {
        "id": "7lPIW5l4OY07",
        "colab_type": "code",
        "colab": {
          "base_uri": "https://localhost:8080/",
          "height": 269
        },
        "outputId": "8d145e9d-1d5f-416e-f32d-f2e4ed565096"
      },
      "source": [
        "#用户购买点击比\n",
        "matrix['r1'] = matrix['u9']/matrix['u7'] \n",
        "#商家购买点击比\n",
        "matrix['r2'] = matrix['m8']/matrix['m6'] \n",
        "#不同用户不同商家购买点击比\n",
        "matrix['r3'] = matrix['um7']/matrix['um5']\n",
        "matrix.fillna(0, inplace=True)\n",
        "# # 修改age_range字段名称为 age_0, age_1, age_2... age_8\n",
        "temp = pd.get_dummies(matrix['age_range'], prefix='age')\n",
        "matrix = pd.concat([matrix, temp], axis=1)\n",
        "temp = pd.get_dummies(matrix['gender'], prefix='g')\n",
        "matrix = pd.concat([matrix, temp], axis=1)\n",
        "matrix.drop(['age_range', 'gender'], axis=1, inplace=True)\n",
        "print(matrix)\n",
        "\n",
        "# 分割训练数据和测试数据\n",
        "train_data = matrix[matrix['origin'] == 'train'].drop(['origin'], axis=1)\n",
        "test_data = matrix[matrix['origin'] == 'test'].drop(['label', 'origin'], axis=1)\n",
        "train_X, train_y = train_data.drop(['label'], axis=1), train_data['label']\n",
        "del temp, matrix\n",
        "gc.collect()"
      ],
      "execution_count": 13,
      "outputs": [
        {
          "output_type": "stream",
          "text": [
            "       user_id  merchant_id label origin    u1  ...  age_7  age_8  g_0  g_1  g_2\n",
            "0       365952         1203   0.0  train    46  ...      0      0    0    1    0\n",
            "1        42624          946   0.0  train   365  ...      0      0    1    0    0\n",
            "2       240000         2278   0.0  train    47  ...      0      0    1    0    0\n",
            "3       177792          951   0.0  train   234  ...      0      0    0    1    0\n",
            "4       322944         1892   0.0  train   186  ...      1      0    1    0    0\n",
            "...        ...          ...   ...    ...   ...  ...    ...    ...  ...  ...  ...\n",
            "23888    47231         1748   nan   test   128  ...      0      0    1    0    0\n",
            "23889    59519          798   nan   test  1286  ...      0      0    1    0    0\n",
            "23890   263039          639   nan   test     9  ...      0      0    0    1    0\n",
            "23891   263039         3954   nan   test     9  ...      0      0    0    1    0\n",
            "23892   423551         2954   nan   test   197  ...      0      0    1    0    0\n",
            "\n",
            "[23893 rows x 47 columns]\n"
          ],
          "name": "stdout"
        },
        {
          "output_type": "execute_result",
          "data": {
            "text/plain": [
              "0"
            ]
          },
          "metadata": {
            "tags": []
          },
          "execution_count": 13
        }
      ]
    },
    {
      "cell_type": "code",
      "metadata": {
        "id": "pLPIBnrvXW1r",
        "colab_type": "code",
        "colab": {
          "base_uri": "https://localhost:8080/",
          "height": 554
        },
        "outputId": "07844008-716b-4710-b70b-8759862f97cb"
      },
      "source": [
        "# 使用机器学习工具\n",
        "from sklearn.model_selection import train_test_split\n",
        "from sklearn.ensemble import RandomForestClassifier\n",
        "from sklearn.linear_model import LinearRegression\n",
        "from sklearn.metrics import classification_report\n",
        "import xgboost as xgb\n",
        "# 将训练集进行切分，20%用于验证\n",
        "X_train, X_valid, y_train, y_valid = train_test_split(train_X, train_y, test_size=.2)\n",
        "\n",
        "# 使用XGBoost\n",
        "model = xgb.XGBClassifier(\n",
        "    max_depth=8,\n",
        "    n_estimators=2000,\n",
        "    min_child_weight=300, \n",
        "    colsample_bytree=0.7, \n",
        "    subsample=0.7, \n",
        "    eta=0.1,    \n",
        "    seed=42    \n",
        ")\n",
        "model.fit(\n",
        "    X_train, y_train,\n",
        "    eval_metric='auc', eval_set=[(X_train, y_train), (X_valid, y_valid)],\n",
        "    verbose=True,\n",
        "    #早停法，如果auc在10epoch没有进步就stop\n",
        "    early_stopping_rounds=10 \n",
        ")\n",
        "\n",
        "\n",
        "model.fit(X_train, y_train)\n",
        "\n",
        "prob = model.predict_proba(test_data)\n",
        "submission['prob'] = pd.Series(prob[:,1])\n",
        "submission.to_csv('prediction1.csv', index=False)"
      ],
      "execution_count": 46,
      "outputs": [
        {
          "output_type": "stream",
          "text": [
            "[0]\tvalidation_0-auc:0.543816\tvalidation_1-auc:0.586716\n",
            "Multiple eval metrics have been passed: 'validation_1-auc' will be used for early stopping.\n",
            "\n",
            "Will train until validation_1-auc hasn't improved in 10 rounds.\n",
            "[1]\tvalidation_0-auc:0.583908\tvalidation_1-auc:0.635446\n",
            "[2]\tvalidation_0-auc:0.596414\tvalidation_1-auc:0.624298\n",
            "[3]\tvalidation_0-auc:0.605335\tvalidation_1-auc:0.635128\n",
            "[4]\tvalidation_0-auc:0.610051\tvalidation_1-auc:0.644181\n",
            "[5]\tvalidation_0-auc:0.614575\tvalidation_1-auc:0.651316\n",
            "[6]\tvalidation_0-auc:0.620358\tvalidation_1-auc:0.65633\n",
            "[7]\tvalidation_0-auc:0.621908\tvalidation_1-auc:0.649851\n",
            "[8]\tvalidation_0-auc:0.624527\tvalidation_1-auc:0.656751\n",
            "[9]\tvalidation_0-auc:0.623357\tvalidation_1-auc:0.655763\n",
            "[10]\tvalidation_0-auc:0.623399\tvalidation_1-auc:0.65506\n",
            "[11]\tvalidation_0-auc:0.622494\tvalidation_1-auc:0.652938\n",
            "[12]\tvalidation_0-auc:0.623555\tvalidation_1-auc:0.66018\n",
            "[13]\tvalidation_0-auc:0.623726\tvalidation_1-auc:0.657053\n",
            "[14]\tvalidation_0-auc:0.62313\tvalidation_1-auc:0.66089\n",
            "[15]\tvalidation_0-auc:0.623104\tvalidation_1-auc:0.662135\n",
            "[16]\tvalidation_0-auc:0.622069\tvalidation_1-auc:0.658355\n",
            "[17]\tvalidation_0-auc:0.62209\tvalidation_1-auc:0.654\n",
            "[18]\tvalidation_0-auc:0.622092\tvalidation_1-auc:0.65517\n",
            "[19]\tvalidation_0-auc:0.621114\tvalidation_1-auc:0.657099\n",
            "[20]\tvalidation_0-auc:0.620524\tvalidation_1-auc:0.656258\n",
            "[21]\tvalidation_0-auc:0.620334\tvalidation_1-auc:0.658928\n",
            "[22]\tvalidation_0-auc:0.619548\tvalidation_1-auc:0.659675\n",
            "[23]\tvalidation_0-auc:0.619186\tvalidation_1-auc:0.656664\n",
            "[24]\tvalidation_0-auc:0.618711\tvalidation_1-auc:0.658767\n",
            "[25]\tvalidation_0-auc:0.618981\tvalidation_1-auc:0.658932\n",
            "Stopping. Best iteration:\n",
            "[15]\tvalidation_0-auc:0.623104\tvalidation_1-auc:0.662135\n",
            "\n"
          ],
          "name": "stdout"
        }
      ]
    },
    {
      "cell_type": "code",
      "metadata": {
        "id": "3bVonK49XfZv",
        "colab_type": "code",
        "colab": {}
      },
      "source": [
        ""
      ],
      "execution_count": 0,
      "outputs": []
    }
  ]
}