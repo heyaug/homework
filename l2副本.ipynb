{
  "nbformat": 4,
  "nbformat_minor": 0,
  "metadata": {
    "colab": {
      "name": "“欢迎使用 Colaboratory”的副本",
      "provenance": [],
      "collapsed_sections": [],
      "toc_visible": true,
      "include_colab_link": true
    },
    "kernelspec": {
      "name": "python3",
      "display_name": "Python 3"
    },
    "accelerator": "TPU"
  },
  "cells": [
    {
      "cell_type": "markdown",
      "metadata": {
        "id": "view-in-github",
        "colab_type": "text"
      },
      "source": [
        "<a href=\"https://colab.research.google.com/github/heyaug/homework/blob/master/l2%E5%89%AF%E6%9C%AC.ipynb\" target=\"_parent\"><img src=\"https://colab.research.google.com/assets/colab-badge.svg\" alt=\"Open In Colab\"/></a>"
      ]
    },
    {
      "cell_type": "code",
      "metadata": {
        "id": "vEt_GxNPlFEV",
        "colab_type": "code",
        "colab": {}
      },
      "source": [
        "import random\n",
        "import math\n",
        "import operator\n",
        "import pandas as pd"
      ],
      "execution_count": 0,
      "outputs": []
    },
    {
      "cell_type": "code",
      "metadata": {
        "id": "QqOcRGJVlI3-",
        "colab_type": "code",
        "colab": {}
      },
      "source": [
        "file_path = \"user_taggedbookmarks-timestamps.dat\""
      ],
      "execution_count": 0,
      "outputs": []
    },
    {
      "cell_type": "code",
      "metadata": {
        "id": "LlJvJoVXlLRF",
        "colab_type": "code",
        "colab": {}
      },
      "source": [
        "def load_data():\n",
        "    print(\"开始数据加载...\")\n",
        "    df = pd.read_csv(file_path, sep='\\t')\n",
        "    print(\"数据集大小为 %d.\" % (len(df.index)))\n",
        "    print(\"设置tag的人数 %d.\" % (len(df.userID.unique())))\n",
        "    print(\"数据加载完成\\n\")\n",
        "    return df"
      ],
      "execution_count": 0,
      "outputs": []
    },
    {
      "cell_type": "code",
      "metadata": {
        "id": "pOR7aKc9lNLN",
        "colab_type": "code",
        "outputId": "9f5300cd-2919-4910-d857-1b50ca31be3e",
        "colab": {
          "base_uri": "https://localhost:8080/",
          "height": 101
        }
      },
      "source": [
        "data=load_data()"
      ],
      "execution_count": 0,
      "outputs": [
        {
          "output_type": "stream",
          "text": [
            "开始数据加载...\n",
            "数据集大小为 437593.\n",
            "设置tag的人数 1867.\n",
            "数据加载完成\n",
            "\n"
          ],
          "name": "stdout"
        }
      ]
    },
    {
      "cell_type": "code",
      "metadata": {
        "id": "MH1_seL3lPAN",
        "colab_type": "code",
        "colab": {}
      },
      "source": [
        "def train_test_split(df,ratio, seed=100):\n",
        "    random.seed(seed)\n",
        "    # ratio比例设置为测试集,从df的index中随机取测试集的index\n",
        "    test_index=random.sample(list(df.index), int(len(df.index)*ratio))\n",
        "    test_data=pd.DataFrame(df,index=test_index)\n",
        "    # 训练集的index是df的index-测试集的index\n",
        "    train_index=set(df.index)-set(test_index)\n",
        "    train_data=pd.DataFrame(df,index=train_index)\n",
        "    print(\"训练集样本数 %d, 测试集样本数 %d\" % (len(train_data.userID.unique()),len(test_data.userID.unique())))\n",
        "    return test_data,train_data"
      ],
      "execution_count": 0,
      "outputs": []
    },
    {
      "cell_type": "code",
      "metadata": {
        "id": "ZDF1DioElsMM",
        "colab_type": "code",
        "outputId": "0e50262d-80c5-41b4-e1ac-7d323f6de511",
        "colab": {
          "base_uri": "https://localhost:8080/",
          "height": 34
        }
      },
      "source": [
        "test_data,train_data=train_test_split(data,0.2, seed=100)"
      ],
      "execution_count": 0,
      "outputs": [
        {
          "output_type": "stream",
          "text": [
            "训练集样本数 1861, 测试集样本数 1825\n"
          ],
          "name": "stdout"
        }
      ]
    },
    {
      "cell_type": "code",
      "metadata": {
        "id": "zjobIvs5lR_9",
        "colab_type": "code",
        "colab": {}
      },
      "source": [
        "# 统一格式\n",
        "def transform(df):\n",
        "    records={}\n",
        "    for user,subdf in df.groupby([\"userID\"]):\n",
        "        items={}\n",
        "        for item,subdf2 in subdf.groupby(\"bookmarkID\"):\n",
        "            items.update({item:list(subdf2.tagID.values)})\n",
        "        records.update({user:items})\n",
        "    return records"
      ],
      "execution_count": 0,
      "outputs": []
    },
    {
      "cell_type": "code",
      "metadata": {
        "id": "jlfcGcNilf-9",
        "colab_type": "code",
        "colab": {}
      },
      "source": [
        "def initStat(df):\n",
        "    user_items={}\n",
        "    user_tags={}\n",
        "    # 从userid的groupby中获取user_items和user_tags\n",
        "    for user,subdf in df.groupby([\"userID\"]):\n",
        "        # 用户使用同一商品的次数\n",
        "        user_items.update({user:dict(subdf.bookmarkID.value_counts().items())})\n",
        "        # 用户使用同一标签的次数\n",
        "        user_tags.update({user:dict(subdf.tagID.value_counts().items())})\n",
        "    tag_items={}\n",
        "    for item,subdf in df.groupby([\"bookmarkID\"]):\n",
        "        # 商品打过某一标签的次数\n",
        "        tag_items.update({item:dict(subdf.tagID.value_counts().items())})\n",
        "    print(\"user_tags, tag_items, user_items初始化完成.\")\n",
        "    print(\"user_tags大小 %d, tag_items大小 %d, user_items大小 %d\" % (len(user_tags), len(tag_items), len(user_items)))\n",
        "    return user_items,user_tags,tag_items"
      ],
      "execution_count": 0,
      "outputs": []
    },
    {
      "cell_type": "code",
      "metadata": {
        "id": "cvQBfAIYlje2",
        "colab_type": "code",
        "outputId": "eda9934f-a7d2-4026-b790-6bf11fef63c8",
        "colab": {
          "base_uri": "https://localhost:8080/",
          "height": 50
        }
      },
      "source": [
        "user_items,user_tags,tag_items=initStat(train_data)"
      ],
      "execution_count": 0,
      "outputs": [
        {
          "output_type": "stream",
          "text": [
            "user_tags, tag_items, user_items初始化完成.\n",
            "user_tags大小 1861, tag_items大小 67469, user_items大小 1861\n"
          ],
          "name": "stdout"
        }
      ]
    },
    {
      "cell_type": "code",
      "metadata": {
        "id": "aAwiwKmbl2yM",
        "colab_type": "code",
        "colab": {}
      },
      "source": [
        "# 字典格式\n",
        "test_data=transform(test_data)\n",
        "train_data=transform(train_data)"
      ],
      "execution_count": 0,
      "outputs": []
    },
    {
      "cell_type": "code",
      "metadata": {
        "id": "_qKKIydql8f0",
        "colab_type": "code",
        "colab": {}
      },
      "source": [
        "# 推荐商品计算分数，用户对某商品的分数=用户对某标签的使用次数*某商品被打上该标签的次数\n",
        "def recommend(user,N):\n",
        "    result=[]\n",
        "    # 用户未使用过的商品\n",
        "    items=list(set(tag_items.keys())-{i[0] for i in list(user_items[user].items())})\n",
        "    # 标签 和 用户使用该标签的次数\n",
        "    for tag,u_used_tag_times in list(user_tags[user].items()):\n",
        "        for item in items:\n",
        "            # 某商品被打某标签的次数\n",
        "            i_used_tag_times=tag_items.get(item).get(tag)\n",
        "            if i_used_tag_times:\n",
        "                result.append((item,u_used_tag_times*i_used_tag_times))\n",
        "    # 根据分数倒序排序\n",
        "    return sorted(result,key=lambda x:x[1],reverse=True)[:N]"
      ],
      "execution_count": 0,
      "outputs": []
    },
    {
      "cell_type": "code",
      "metadata": {
        "id": "_sp3WmbCl9zc",
        "colab_type": "code",
        "outputId": "b0962a29-c6c0-48da-d782-81cedec96208",
        "colab": {
          "base_uri": "https://localhost:8080/",
          "height": 34
        }
      },
      "source": [
        "recommend(8,5)"
      ],
      "execution_count": 0,
      "outputs": [
        {
          "output_type": "execute_result",
          "data": {
            "text/plain": [
              "[(1526, 81), (918, 54), (1416, 54), (4639, 54), (6656, 54)]"
            ]
          },
          "metadata": {
            "tags": []
          },
          "execution_count": 18
        }
      ]
    },
    {
      "cell_type": "code",
      "metadata": {
        "id": "CaLFAltgmANE",
        "colab_type": "code",
        "colab": {}
      },
      "source": [
        "def precisionAndRecall(N):\n",
        "    hit = 0\n",
        "    h_recall = 0\n",
        "    h_precision = 0\n",
        "    for user,items in test_data.items():\n",
        "        if user not in train_data:\n",
        "            continue\n",
        "        # 获取Top-N推荐列表\n",
        "        rank = recommend(user, N)\n",
        "        for item,rui in rank:\n",
        "            if item in items:\n",
        "                hit = hit + 1\n",
        "        h_recall = h_recall + len(items)\n",
        "        h_precision = h_precision + N\n",
        "    #print('一共命中 %d 个, 一共推荐 %d 个, 用户设置tag总数 %d 个' %(hit, h_precision, h_recall))\n",
        "    # 返回准确率 和 召回率\n",
        "    return (hit/(h_precision*1.0)), (hit/(h_recall*1.0))"
      ],
      "execution_count": 0,
      "outputs": []
    },
    {
      "cell_type": "code",
      "metadata": {
        "id": "xrieIWi1ma8V",
        "colab_type": "code",
        "colab": {}
      },
      "source": [
        "precisionAndRecall(5)"
      ],
      "execution_count": 0,
      "outputs": []
    },
    {
      "cell_type": "code",
      "metadata": {
        "id": "0zqvM3R2meFc",
        "colab_type": "code",
        "colab": {}
      },
      "source": [
        ""
      ],
      "execution_count": 0,
      "outputs": []
    }
  ]
}