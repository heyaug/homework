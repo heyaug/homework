{
 "cells": [
  {
   "cell_type": "markdown",
   "metadata": {},
   "source": [
    "#### RandNet"
   ]
  },
  {
   "cell_type": "code",
   "execution_count": null,
   "metadata": {},
   "outputs": [],
   "source": [
    "!java -jar RankLib-patched.jar -train Fold1/train.txt -test Fold1/test.txt -validate Fold1/vali.txt -ranker 1 -metric2t NDCG@10 -metric2T NDCG@8 -save RankNet.txt"
   ]
  },
  {
   "cell_type": "markdown",
   "metadata": {},
   "source": [
    "96      | 0.106          | 0.4871    | 0.5104    | \n",
    "97      | 0.1061         | 0.4871    | 0.5104    | \n",
    "98      | 0.1061         | 0.4875    | 0.5104    | \n",
    "99      | 0.106          | 0.4874    | 0.5107    | \n",
    "100     | 0.1061         | 0.4873    | 0.5107    | \n",
    "--------------------------------------------------\n",
    "Finished sucessfully.\n",
    "NDCG@10 on training data: 0.4889\n",
    "NDCG@10 on validation data: 0.5163\n",
    "---------------------------------\n",
    "NDCG@8 on test data: 0.4668\n",
    "\n",
    "Model saved to: RankNet.txt"
   ]
  },
  {
   "cell_type": "markdown",
   "metadata": {},
   "source": [
    "#### ListNet"
   ]
  },
  {
   "cell_type": "code",
   "execution_count": null,
   "metadata": {},
   "outputs": [],
   "source": [
    "!java -jar RankLib-patched.jar -train Fold1/train.txt -test Fold1/test.txt -validate Fold1/vali.txt -ranker 7 -metric2t NDCG@10 -metric2T NDCG@8 -save ListNet.txt"
   ]
  },
  {
   "cell_type": "markdown",
   "metadata": {},
   "source": [
    "1495    | 0.0            | 0.4857    | 0.514     | \n",
    "1496    | 0.0            | 0.4857    | 0.514     | \n",
    "1497    | 0.0            | 0.4857    | 0.514     | \n",
    "1498    | 0.0            | 0.4857    | 0.514     | \n",
    "1499    | 0.0            | 0.4857    | 0.514     | \n",
    "1500    | 0.0            | 0.4857    | 0.514     | \n",
    "--------------------------------------------------\n",
    "Finished sucessfully.\n",
    "NDCG@10 on training data: 0.4848\n",
    "NDCG@10 on validation data: 0.5143\n",
    "---------------------------------\n",
    "NDCG@8 on test data: 0.4556\n",
    "\n",
    "Model saved to: ListNet.txt"
   ]
  },
  {
   "cell_type": "markdown",
   "metadata": {},
   "source": [
    "#### LambdaMart"
   ]
  },
  {
   "cell_type": "code",
   "execution_count": null,
   "metadata": {},
   "outputs": [],
   "source": [
    "!java -jar RankLib-patched.jar -train Fold1/train.txt -test Fold1/test.txt -validate Fold1/vali.txt -ranker 6 -metric2t NDCG@10 -metric2T NDCG@8 -save LambdaMart.txt"
   ]
  },
  {
   "cell_type": "markdown",
   "metadata": {},
   "source": [
    "130     | 0.6003    | 0.5416    | \n",
    "131     | 0.6006    | 0.5412    | \n",
    "132     | 0.6002    | 0.5396    | \n",
    "133     | 0.6003    | 0.5436    | \n",
    "134     | 0.6005    | 0.5443    | \n",
    "135     | 0.6008    | 0.5435    | \n",
    "---------------------------------\n",
    "Finished sucessfully.\n",
    "NDCG@10 on training data: 0.5322\n",
    "NDCG@10 on validation data: 0.5477\n",
    "---------------------------------\n",
    "NDCG@8 on test data: 0.4858\n",
    "\n",
    "Model saved to: LambdaMart.txt"
   ]
  },
  {
   "cell_type": "markdown",
   "metadata": {},
   "source": [
    "#### 多个模型进行对比"
   ]
  },
  {
   "cell_type": "markdown",
   "metadata": {},
   "source": [
    "##### 生成baseline NDCG数据"
   ]
  },
  {
   "cell_type": "code",
   "execution_count": 11,
   "metadata": {},
   "outputs": [
    {
     "name": "stdout",
     "output_type": "stream",
     "text": [
      "\n",
      "[+] General Parameters:\n",
      "Model file:\t\n",
      "Feature normalization: No\n",
      "Test metric:\tNDCG@10\n",
      "\n",
      "Reading feature file [Fold1/test.txt]: 0... \n",
      "Reading feature file [Fold1/test.txt]... [Done.]            \n",
      "(156 ranked lists, 2874 entries read)\n",
      "NDCG@10 on test data: 0.3257\n",
      "Per-ranked list performance saved to: output/baseline.ndcg.txt\n"
     ]
    }
   ],
   "source": [
    "!java -jar RankLib-patched.jar -test Fold1/test.txt -metric2T NDCG@10 -idv output/baseline.ndcg.txt"
   ]
  },
  {
   "cell_type": "markdown",
   "metadata": {},
   "source": [
    "##### 分别训练三个模型（RankNet, ListNet, LambdaMart）"
   ]
  },
  {
   "cell_type": "code",
   "execution_count": null,
   "metadata": {},
   "outputs": [],
   "source": [
    "# RankNet\n",
    "!java -jar RankLib-patched.jar -train Fold1/train.txt -test Fold1/test.txt -validate Fold1/vali.txt -ranker 1 -metric2t NDCG@10 -metric2T NDCG@10 -save model_ranknet.txt\n",
    "# ListNet\n",
    "!java -jar RankLib-patched.jar -train Fold1/train.txt -test Fold1/test.txt -validate Fold1/vali.txt -ranker 7 -metric2t NDCG@10 -metric2T NDCG@10 -save model_listnet.txt\n",
    "# LambdaMart\n",
    "!java -jar RankLib-patched.jar -train Fold1/train.txt -test Fold1/test.txt -validate Fold1/vali.txt -ranker 6 -metric2t NDCG@10 -metric2T NDCG@10 -save model_lambdamart.txt\n"
   ]
  },
  {
   "cell_type": "markdown",
   "metadata": {},
   "source": [
    "##### 得出三个模型的NDCG结果（RankNet, ListNet, LambdaMart）"
   ]
  },
  {
   "cell_type": "code",
   "execution_count": 13,
   "metadata": {},
   "outputs": [
    {
     "name": "stdout",
     "output_type": "stream",
     "text": [
      "\n",
      "[+] General Parameters:\n",
      "Model file:\tmodel_ranknet.txt\n",
      "Feature normalization: No\n",
      "Test metric:\tNDCG@10\n",
      "Model:\t\tRankNet\n",
      "\n",
      "Reading feature file [Fold1/test.txt]: 0... \n",
      "Reading feature file [Fold1/test.txt]... [Done.]            \n",
      "(156 ranked lists, 2874 entries read)\n",
      "NDCG@10 on test data: 0.4814\n",
      "Per-ranked list performance saved to: output/ranknet.ndcg.txt\n",
      "\n",
      "[+] General Parameters:\n",
      "Model file:\tmodel_listnet.txt\n",
      "Feature normalization: No\n",
      "Test metric:\tNDCG@10\n",
      "Model:\t\tListNet\n",
      "\n",
      "Reading feature file [Fold1/test.txt]: 0... \n",
      "Reading feature file [Fold1/test.txt]... [Done.]            \n",
      "(156 ranked lists, 2874 entries read)\n",
      "NDCG@10 on test data: 0.4685\n",
      "Per-ranked list performance saved to: output/listnet.ndcg.txt\n",
      "\n",
      "[+] General Parameters:\n",
      "Model file:\tmodel_lambdamart.txt\n",
      "Feature normalization: No\n",
      "Test metric:\tNDCG@10\n",
      "Model:\t\tLambdaMART\n",
      "\n",
      "Reading feature file [Fold1/test.txt]: 0... \n",
      "Reading feature file [Fold1/test.txt]... [Done.]            \n",
      "(156 ranked lists, 2874 entries read)\n",
      "NDCG@10 on test data: 0.4891\n",
      "Per-ranked list performance saved to: output/lambdamart.ndcg.txt\n"
     ]
    }
   ],
   "source": [
    "#RankNet\n",
    "!java -jar RankLib-patched.jar -load model_ranknet.txt -test Fold1/test.txt -metric2T NDCG@10 -idv output/ranknet.ndcg.txt\n",
    "#ListNet\n",
    "!java -jar RankLib-patched.jar -load model_listnet.txt -test Fold1/test.txt -metric2T NDCG@10 -idv output/listnet.ndcg.txt\n",
    "#LambdaMart\n",
    "!java -jar RankLib-patched.jar -load model_lambdamart.txt -test Fold1/test.txt -metric2T NDCG@10 -idv output/lambdamart.ndcg.txt"
   ]
  },
  {
   "cell_type": "markdown",
   "metadata": {},
   "source": [
    "##### 多个模型对比（RankNet, ListNet, LambdaMart）"
   ]
  },
  {
   "cell_type": "code",
   "execution_count": 15,
   "metadata": {},
   "outputs": [],
   "source": [
    "!java -cp RankLib-patched.jar ciir.umass.edu.eval.Analyzer -all output/ -base baseline.ndcg.txt > analysis.txt"
   ]
  },
  {
   "cell_type": "markdown",
   "metadata": {},
   "source": [
    "##### analysis.txt"
   ]
  },
  {
   "cell_type": "markdown",
   "metadata": {},
   "source": [
    "Reading output/baseline.ndcg.txt... 157 ranked lists [Done]\n",
    "Reading output/lambdamart.ndcg.txt... 157 ranked lists [Done]\n",
    "Reading output/listnet.ndcg.txt... 157 ranked lists [Done]\n",
    "Reading output/ranknet.ndcg.txt... 157 ranked lists [Done]\n",
    "\n",
    "\n",
    "Overall comparison\n",
    "------------------------------------------------------------------------\n",
    "System\tPerformance\tImprovement\tWin\tLoss\tp-value\n",
    "baseline.ndcg.txt [baseline]\t0.3257\n",
    "lambdamart.ndcg.txt\t0.4891\t+0.1633 (+50.15%)\t79\t25\t0.0\n",
    "listnet.ndcg.txt\t0.4685\t+0.1428 (+43.84%)\t80\t21\t0.0\n",
    "ranknet.ndcg.txt\t0.4814\t+0.1557 (+47.79%)\t82\t19\t0.0\n",
    "\n",
    "\n",
    "Detailed break down\n",
    "------------------------------------------------------------------------\n",
    "\t[ < -100%)\t[-100%, -75%)\t[-75%, -50%)\t[-50%, -25%)\t[-25%, 0%)\t(0%, +25%]\t(+25%, +50%]\t(+50%, +75%]\t(+75%, +100%]\t( > +100%]\n",
    "lambdamart.ndcg.txt\t0\t0\t0\t6\t19\t24\t35\t15\t5\t0\n",
    "listnet.ndcg.txt\t0\t0\t0\t5\t16\t34\t29\t15\t2\t0\n",
    "ranknet.ndcg.txt\t0\t0\t0\t5\t14\t33\t29\t18\t2\t0\n"
   ]
  }
 ],
 "metadata": {
  "kernelspec": {
   "display_name": "Python 3",
   "language": "python",
   "name": "python3"
  },
  "language_info": {
   "codemirror_mode": {
    "name": "ipython",
    "version": 3
   },
   "file_extension": ".py",
   "mimetype": "text/x-python",
   "name": "python",
   "nbconvert_exporter": "python",
   "pygments_lexer": "ipython3",
   "version": "3.7.4"
  }
 },
 "nbformat": 4,
 "nbformat_minor": 4
}
