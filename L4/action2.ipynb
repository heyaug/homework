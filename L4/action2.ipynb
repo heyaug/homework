{
 "cells": [
  {
   "cell_type": "code",
   "execution_count": 1,
   "metadata": {},
   "outputs": [],
   "source": [
    "import jieba\n",
    "import jieba.analyse\n",
    "from textrank4zh import TextRank4Keyword, TextRank4Sentence"
   ]
  },
  {
   "cell_type": "code",
   "execution_count": 2,
   "metadata": {},
   "outputs": [],
   "source": [
    "with open(\"news.txt\",\"r\",encoding=\"utf-8\")as f:\n",
    "    text=f.read()"
   ]
  },
  {
   "cell_type": "code",
   "execution_count": 3,
   "metadata": {},
   "outputs": [
    {
     "name": "stdout",
     "output_type": "stream",
     "text": [
      "今天，武汉市教育局发出《关于延迟2020年春季开学时间有关工作的通知》，延迟全市中小学、市属大中专院校2020年春季开学时间。\n",
      "具体开学时间将视武汉市新冠肺炎疫情发展和防控情况，请示上级同意后另行通知。\n",
      "2月10日前，各单位严格按照要求，做好假期各项工作。\n",
      "2月10日开始，各区教育局组织辖区中小学、中职学校，按照教学计划安排，开展在线课程教学（方案另发）。\n",
      "正式开学前，严禁市属各级各类学校组织各类线下课程教学、培训和集体活动。\n",
      "各区教育局要指导辖区中小学、幼儿园，合理制定学生学习计划和生活指南，指导学生安排好居家学习和生活；要关注学生心理健康，建立离校学生情况日报制度，定期向学生了解相关情况，通过电话、网络等各种方式做好学生的个性化辅导。\n",
      "\n"
     ]
    }
   ],
   "source": [
    "print(text)"
   ]
  },
  {
   "cell_type": "code",
   "execution_count": 5,
   "metadata": {},
   "outputs": [
    {
     "name": "stdout",
     "output_type": "stream",
     "text": [
      "今天 ， 武汉市 教育局 发出 《 关于 延迟 2020 年 春季 开学 时间 有关 工作 的 通知 》 ， 延迟 全市 中小学 、 市属 大中专 院校 2020 年 春季 开学 时间 。 \n",
      " 具体 开学 时间 将视 武汉市 新冠 肺炎 疫情 发展 和 防控 情况 ， 请示 上级 同意 后 另行通知 。 \n",
      " 2 月 10 日前 ， 各 单位 严格 按照 要求 ， 做好 假期 各项 工作 。 \n",
      " 2 月 10 日 开始 ， 各区 教育局 组织 辖区 中小学 、 中职 学校 ， 按照 教学计划 安排 ， 开展 在线 课程 教学 （ 方案 另发 ） 。 \n",
      " 正式 开学 前 ， 严禁 市属 各级 各类 学校 组织 各类 线下 课程 教学 、 培训 和 集体 活动 。 \n",
      " 各区 教育局 要 指导 辖区 中小学 、 幼儿园 ， 合理 制定 学生 学习 计划 和 生活 指南 ， 指导 学生 安排 好 居家 学习 和 生活 ； 要 关注 学生 心理健康 ， 建立 离校 学生 情况 日报 制度 ， 定期 向 学生 了解 相关 情况 ， 通过 电话 、 网络 等 各种 方式 做好 学生 的 个性化 辅导 。 \n",
      "\n"
     ]
    }
   ],
   "source": [
    "# 分词\n",
    "seg_list = jieba.cut(text, cut_all=False)\n",
    "print(' '.join(seg_list))"
   ]
  },
  {
   "cell_type": "code",
   "execution_count": 6,
   "metadata": {},
   "outputs": [
    {
     "name": "stdout",
     "output_type": "stream",
     "text": [
      "开学 0.6485997204549999\n",
      "学生 0.61749448092\n",
      "教育局 0.4799483158591072\n",
      "市属 0.3285784745064286\n",
      "武汉市 0.31542048034857145\n",
      "辖区 0.2916905848242857\n",
      "课程 0.2881712562389286\n",
      "教学 0.2644250950639286\n",
      "指导 0.22764143180785715\n",
      "时间 0.21854676602464285\n",
      "中职 0.21623068183392857\n",
      "情况 0.21467359474767858\n",
      "新冠 0.21347799112321428\n",
      "学校 0.20329235358\n",
      "教学计划 0.19564711915714286\n",
      "心理健康 0.19473116747142857\n",
      "离校 0.19004609132142858\n",
      "线下 0.17699452866803572\n",
      "居家 0.16461690044375002\n",
      "个性化 0.16050040654\n"
     ]
    }
   ],
   "source": [
    "# 通过TF-IDF获取关键词\n",
    "keywords = jieba.analyse.extract_tags(text, topK=20, withWeight=True, allowPOS=('n','nr','ns'))\n",
    "for item in keywords:\n",
    "    print(item[0],item[1])"
   ]
  },
  {
   "cell_type": "code",
   "execution_count": 7,
   "metadata": {},
   "outputs": [
    {
     "name": "stdout",
     "output_type": "stream",
     "text": [
      "学生 1.0\n",
      "学校 0.4701656766797791\n",
      "开学 0.4681203347633729\n",
      "教学 0.44621407750431774\n",
      "情况 0.4458125964449713\n",
      "课程 0.42104589819490557\n",
      "辖区 0.4204404240969891\n",
      "指导 0.40650982455143114\n",
      "武汉市 0.3963685095253518\n",
      "时间 0.3872495876437628\n",
      "离校 0.3689180788700992\n",
      "市属 0.34311379829757227\n",
      "制度 0.30432666566602495\n",
      "疫情 0.2742404652104665\n",
      "教育局 0.27334282446145575\n",
      "新冠 0.2727966920055369\n",
      "线下 0.2552514303583247\n",
      "日报 0.2526022054064114\n",
      "方式 0.2500024055116104\n",
      "中职 0.2432127325502587\n"
     ]
    }
   ],
   "source": [
    "# 基于TextRank算法的关键词抽取\n",
    "keywords = jieba.analyse.textrank(text, topK=20, withWeight=True, allowPOS=('n','nr','ns')) \n",
    "for item in keywords:\n",
    "    print(item[0],item[1])"
   ]
  },
  {
   "cell_type": "code",
   "execution_count": 8,
   "metadata": {},
   "outputs": [
    {
     "name": "stdout",
     "output_type": "stream",
     "text": [
      "摘要：\n",
      "0 0.16736862381514578 今天，武汉市教育局发出《关于延迟2020年春季开学时间有关工作的通知》，延迟全市中小学、市属大中专院校2020年春季开学时间\n",
      "3 0.16121904336116283 2月10日开始，各区教育局组织辖区中小学、中职学校，按照教学计划安排，开展在线课程教学（方案另发）\n",
      "6 0.14645271233055304 要关注学生心理健康，建立离校学生情况日报制度，定期向学生了解相关情况，通过电话、网络等各种方式做好学生的个性化辅导\n"
     ]
    }
   ],
   "source": [
    "# 输出重要的句子\n",
    "tr4s = TextRank4Sentence()\n",
    "tr4s.analyze(text=text, lower=True, source = 'all_filters')\n",
    "print('摘要：')\n",
    "# 重要性较高的三个句子\n",
    "for item in tr4s.get_key_sentences(num=3):\n",
    "\t# index是语句在文本中位置，weight表示权重\n",
    "    print(item.index, item.weight, item.sentence)"
   ]
  },
  {
   "cell_type": "code",
   "execution_count": null,
   "metadata": {},
   "outputs": [],
   "source": []
  }
 ],
 "metadata": {
  "kernelspec": {
   "display_name": "Python 3",
   "language": "python",
   "name": "python3"
  },
  "language_info": {
   "codemirror_mode": {
    "name": "ipython",
    "version": 3
   },
   "file_extension": ".py",
   "mimetype": "text/x-python",
   "name": "python",
   "nbconvert_exporter": "python",
   "pygments_lexer": "ipython3",
   "version": "3.7.4"
  }
 },
 "nbformat": 4,
 "nbformat_minor": 4
}
